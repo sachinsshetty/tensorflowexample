{
 "cells": [
  {
   "cell_type": "code",
   "execution_count": 1,
   "metadata": {},
   "outputs": [
    {
     "name": "stdout",
     "output_type": "stream",
     "text": [
      "Actual      [  7.   8.   9.  10.  11.  12.]\n",
      "Predicted   [  7.   8.   9.  10.  11.  12.]\n"
     ]
    }
   ],
   "source": [
    "# Program for y = mx +c\n",
    "\n",
    "import tensorflow as tf\n",
    "import numpy as np\n",
    "import matplotlib.pyplot as plt\n",
    "\n",
    "x = tf.constant([1.0, 2.0, 3.0, 4.0, 5.0, 6.0]) \n",
    "\n",
    "y = tf.constant([7.0, 8.0, 9.0, 10.0, 11.0, 12.0]) \n",
    "\n",
    "x_mean = tf.reduce_mean(x) \n",
    "y_mean = tf.reduce_mean(y)\n",
    "\n",
    "variance = 0\n",
    "\n",
    "for i in range(x.shape[0]):\n",
    "    variance = variance + tf.square((x[i] - x_mean))\n",
    "    \n",
    "covar = 0\n",
    "\n",
    "for i in range(x.shape[0]):\n",
    "    covar = covar + ( (x[i] - x_mean) * (y[i] - y_mean))\n",
    "        \n",
    "m = covar / variance\n",
    "\n",
    "c= y_mean - m * x_mean \n",
    "  \n",
    "pred = m * x + c    \n",
    "    \n",
    "with tf.Session() as sess:\n",
    "    print(\"Actual     \", sess.run(y))\n",
    "    print(\"Predicted  \", sess.run(pred)) "
   ]
  },
  {
   "cell_type": "code",
   "execution_count": 2,
   "metadata": {},
   "outputs": [
    {
     "name": "stdout",
     "output_type": "stream",
     "text": [
      "Actual      [  7.   8.   9.  10.  11.  12.]\n",
      "Predicted   [  7.   8.   9.  10.  11.  12.]\n"
     ]
    }
   ],
   "source": [
    "# Program for y = mx +c\n",
    "\n",
    "import tensorflow as tf\n",
    "import numpy as np\n",
    "import matplotlib.pyplot as plt\n",
    "\n",
    "x = tf.constant([1.0, 2.0, 3.0, 4.0, 5.0, 6.0]) \n",
    "\n",
    "y = tf.constant([7.0, 8.0, 9.0, 10.0, 11.0, 12.0]) \n",
    "\n",
    "x_mean =  tf.reduce_mean(x)\n",
    "y_mean =  tf.reduce_mean(y)\n",
    "\n",
    "variance = tf.reduce_sum(tf.square((x- x_mean)))\n",
    "\n",
    "covar = tf.reduce_sum( (x-x_mean) * (y -y_mean))\n",
    "\n",
    "m = covar / variance\n",
    "\n",
    "c= y_mean - m * x_mean \n",
    "  \n",
    "pred = m * x + c    \n",
    "    \n",
    "with tf.Session() as sess:\n",
    "    print(\"Actual     \", sess.run(y))\n",
    "    print(\"Predicted  \", sess.run(pred)) "
   ]
  },
  {
   "cell_type": "code",
   "execution_count": null,
   "metadata": {
    "collapsed": true
   },
   "outputs": [],
   "source": []
  }
 ],
 "metadata": {
  "kernelspec": {
   "display_name": "Python 2",
   "language": "python",
   "name": "python2"
  },
  "language_info": {
   "codemirror_mode": {
    "name": "ipython",
    "version": 2
   },
   "file_extension": ".py",
   "mimetype": "text/x-python",
   "name": "python",
   "nbconvert_exporter": "python",
   "pygments_lexer": "ipython2",
   "version": "2.7.6"
  }
 },
 "nbformat": 4,
 "nbformat_minor": 2
}
